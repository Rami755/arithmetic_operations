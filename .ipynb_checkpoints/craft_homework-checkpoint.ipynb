{
 "cells": [
  {
   "cell_type": "code",
   "execution_count": 2,
   "id": "f0cd6a17-3b90-4339-a3d5-fa9a7f1587e0",
   "metadata": {},
   "outputs": [
    {
     "name": "stdout",
     "output_type": "stream",
     "text": [
      "Test\n"
     ]
    }
   ],
   "source": [
    "## Addition of numbers"
   ]
  },
  {
   "cell_type": "code",
   "execution_count": 33,
   "id": "1d49e55d-51cb-457d-a75e-e5e0aa452e72",
   "metadata": {},
   "outputs": [
    {
     "name": "stdin",
     "output_type": "stream",
     "text": [
      "Enter the first number: 6\n",
      "Enter Operator(+,-,*,/, %) : +6\n"
     ]
    },
    {
     "name": "stdout",
     "output_type": "stream",
     "text": [
      "\n",
      "Invalid Operator, please enter again\n"
     ]
    },
    {
     "name": "stdin",
     "output_type": "stream",
     "text": [
      "Enter Operator(+,-,*,/, %) : +\n",
      "Enter the second number: 5\n"
     ]
    },
    {
     "name": "stdout",
     "output_type": "stream",
     "text": [
      "6 + 5 = 11\n"
     ]
    }
   ],
   "source": [
    "def calculation(num1, operator: str, num2):\n",
    "    \"\"\"\n",
    "    Performs an arithmetic calculation based on the user's input.\n",
    "    \"\"\"\n",
    "    match operator:\n",
    "        case \"+\":\n",
    "            addition = num1 + num2\n",
    "            return f\"{num1} + {num2} = {round(addition, 2)}\"\n",
    "        case \"-\":\n",
    "            subtraction = num1 - num2\n",
    "            return f\"{num1} - {num2} = {round(subtraction, 2)}\"\n",
    "        case \"*\":\n",
    "            multiplication = num1 * num2\n",
    "            return f\"{num1} * {num2} = {round(multiplication, 2)}\"\n",
    "        case \"/\":\n",
    "            try:\n",
    "            # while num2 == 0:\n",
    "            #     num2 = int(input(\"2nd Number is 0, please re-enter the number\")\n",
    "                division = num1 / num2\n",
    "                return f\"{num1} / {num2} = {round(division, 2)}\"\n",
    "            except ZeroDivisionError as zero:\n",
    "                return f\"Error: {zero}\"\n",
    "        case \"%\":\n",
    "            modulus = num1 % num2\n",
    "            return f\"{num1} % {num2} = {round(modulus, 2)}\"\n",
    "        case _:\n",
    "            return \"Invalid Operator\"\n",
    "            \n",
    "\n",
    "try:\n",
    "    \n",
    "    first_num = input(\"Enter the first number:\")\n",
    "    if '.' in first_num:\n",
    "        #Checking if the user input (number) is float\n",
    "        first_num = float(first_num)\n",
    "    else:\n",
    "        first_num = int(first_num)\n",
    "        \n",
    "    while True:\n",
    "        #Loop until it gets a valid operator (+,-,*,/,%)\n",
    "        operator = input(\"Enter Operator(+,-,*,/, %) :\")\n",
    "        \n",
    "        if operator in [\"+\", \"-\", \"*\", \"/\", \"%\"]:\n",
    "            #checks if the user input (operator) in valid according to the given operators list\n",
    "            break\n",
    "        print( \"\\nInvalid Operator, please enter again\")\n",
    "    \n",
    "    second_num = float(input(\"Enter the second number:\"))\n",
    "    if '.' in second_num:\n",
    "        #Checking if the user input (number) is float\n",
    "        second_num = float(second_num)\n",
    "    else:\n",
    "        second_num = int(second_num)\n",
    "    \n",
    "    result = calculation(first_num, operator, second_num)\n",
    "    print(result)\n",
    "except ValueError as v_error:\n",
    "    print(f\"Error: {v_error}\")\n"
   ]
  },
  {
   "cell_type": "code",
   "execution_count": null,
   "id": "c5f4e84e-3c98-46ec-b621-3125a0cd7789",
   "metadata": {},
   "outputs": [],
   "source": []
  }
 ],
 "metadata": {
  "kernelspec": {
   "display_name": "Python 3 (ipykernel)",
   "language": "python",
   "name": "python3"
  },
  "language_info": {
   "codemirror_mode": {
    "name": "ipython",
    "version": 3
   },
   "file_extension": ".py",
   "mimetype": "text/x-python",
   "name": "python",
   "nbconvert_exporter": "python",
   "pygments_lexer": "ipython3",
   "version": "3.12.0"
  }
 },
 "nbformat": 4,
 "nbformat_minor": 5
}
